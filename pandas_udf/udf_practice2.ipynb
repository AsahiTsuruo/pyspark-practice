{
 "cells": [
  {
   "cell_type": "markdown",
   "metadata": {},
   "source": [
    "## https://qiita.com/paulxll/items/98cd3d3d8adbf6197660"
   ]
  },
  {
   "cell_type": "code",
   "execution_count": 65,
   "metadata": {},
   "outputs": [],
   "source": [
    "import pandas as pd\n",
    "from pyspark.sql.functions import col, pandas_udf, PandasUDFType\n",
    "from pyspark.sql.types import LongType,  DoubleType, IntegerType, StringType, StructType, StructField\n",
    "from pyspark.sql import SparkSession\n",
    "\n",
    "spark = SparkSession \\\n",
    "    .builder \\\n",
    "    .appName(\"example\") \\\n",
    "    .config(\"spark.some.config.option\", \"some-value\") \\\n",
    "    .getOrCreate()"
   ]
  },
  {
   "cell_type": "code",
   "execution_count": 66,
   "metadata": {},
   "outputs": [],
   "source": [
    "df = spark.createDataFrame(\n",
    "    [\n",
    "        (\"1\", 1.0), (\"1\", 2.0),\n",
    "        (\"1\", 5.0), (\"1\", 7.0),\n",
    "        (\"2\", 3.0), (\"2\", 5.0),\n",
    "        (\"2\", 10.0), (\"2\", 0.0),\n",
    "        (\"3\", 6.0), (\"3\", 6.0),\n",
    "        (\"3\", 7.0), (\"3\", 8.0),\n",
    "        (\"4\", 5.0), (\"4\", 9.0),\n",
    "        (\"4\", 2.0), (\"4\", 2.0),\n",
    "        (\"5\", 7.0), (\"5\", 1.0),\n",
    "        (\"5\", 2.0), (\"5\", 4.0)\n",
    "        ],\n",
    "    (\"id\", \"v\"))"
   ]
  },
  {
   "cell_type": "code",
   "execution_count": 67,
   "metadata": {},
   "outputs": [
    {
     "name": "stdout",
     "output_type": "stream",
     "text": [
      "+---+----+\n",
      "| id|   v|\n",
      "+---+----+\n",
      "|  1| 1.0|\n",
      "|  1| 2.0|\n",
      "|  1| 5.0|\n",
      "|  1| 7.0|\n",
      "|  2| 3.0|\n",
      "|  2| 5.0|\n",
      "|  2|10.0|\n",
      "|  2| 0.0|\n",
      "|  3| 6.0|\n",
      "|  3| 6.0|\n",
      "|  3| 7.0|\n",
      "|  3| 8.0|\n",
      "|  4| 5.0|\n",
      "|  4| 9.0|\n",
      "|  4| 2.0|\n",
      "|  4| 2.0|\n",
      "|  5| 7.0|\n",
      "|  5| 1.0|\n",
      "|  5| 2.0|\n",
      "|  5| 4.0|\n",
      "+---+----+\n",
      "\n"
     ]
    }
   ],
   "source": [
    "df.show()"
   ]
  },
  {
   "cell_type": "markdown",
   "metadata": {},
   "source": [
    "### scaler"
   ]
  },
  {
   "cell_type": "code",
   "execution_count": 68,
   "metadata": {},
   "outputs": [
    {
     "name": "stdout",
     "output_type": "stream",
     "text": [
      "+---+----+----+\n",
      "| id|   v|  v2|\n",
      "+---+----+----+\n",
      "|  1| 1.0| 2.0|\n",
      "|  1| 2.0| 3.0|\n",
      "|  1| 5.0| 6.0|\n",
      "|  1| 7.0| 8.0|\n",
      "|  2| 3.0| 4.0|\n",
      "|  2| 5.0| 6.0|\n",
      "|  2|10.0|11.0|\n",
      "|  2| 0.0| 1.0|\n",
      "|  3| 6.0| 7.0|\n",
      "|  3| 6.0| 7.0|\n",
      "|  3| 7.0| 8.0|\n",
      "|  3| 8.0| 9.0|\n",
      "|  4| 5.0| 6.0|\n",
      "|  4| 9.0|10.0|\n",
      "|  4| 2.0| 3.0|\n",
      "|  4| 2.0| 3.0|\n",
      "|  5| 7.0| 8.0|\n",
      "|  5| 1.0| 2.0|\n",
      "|  5| 2.0| 3.0|\n",
      "|  5| 4.0| 5.0|\n",
      "+---+----+----+\n",
      "\n"
     ]
    }
   ],
   "source": [
    "#pandas_udfに、入力値の型(double)と、PandasUDFType(SCALAR)を指定\n",
    "@pandas_udf('double', PandasUDFType.SCALAR)\n",
    "def pandas_plus_one(v):\n",
    "    \"\"\"\n",
    "    1を足して返すだけの関数\n",
    "    \"\"\"\n",
    "    return v + 1\n",
    "\n",
    "df = df.withColumn('v2', pandas_plus_one(df.v))\n",
    "df.show()"
   ]
  },
  {
   "cell_type": "code",
   "execution_count": 69,
   "metadata": {},
   "outputs": [],
   "source": [
    "@pandas_udf('double', PandasUDFType.SCALAR)\n",
    "def pandas_mean_diff(pds):\n",
    "    \"\"\"\n",
    "    平均値との差分を返す関数\n",
    "    \"\"\"\n",
    "    return pds - pds.mean()"
   ]
  },
  {
   "cell_type": "code",
   "execution_count": 70,
   "metadata": {},
   "outputs": [
    {
     "name": "stdout",
     "output_type": "stream",
     "text": [
      "+---+----+----+---------+\n",
      "|id |v   |v2  |mean_diff|\n",
      "+---+----+----+---------+\n",
      "|1  |1.0 |2.0 |-0.5     |\n",
      "|1  |2.0 |3.0 |0.5      |\n",
      "|1  |5.0 |6.0 |-1.0     |\n",
      "|1  |7.0 |8.0 |1.0      |\n",
      "|2  |3.0 |4.0 |-1.0     |\n",
      "|2  |5.0 |6.0 |1.0      |\n",
      "|2  |10.0|11.0|4.5      |\n",
      "|2  |0.0 |1.0 |-5.5     |\n",
      "|3  |6.0 |7.0 |0.5      |\n",
      "|3  |6.0 |7.0 |0.5      |\n",
      "+---+----+----+---------+\n",
      "only showing top 10 rows\n",
      "\n"
     ]
    }
   ],
   "source": [
    "df = df.withColumn('mean_diff', pandas_mean_diff(col(\"v\")))\n",
    "df.show(10, False)"
   ]
  },
  {
   "cell_type": "markdown",
   "metadata": {},
   "source": [
    "### GROUPED_AGG"
   ]
  },
  {
   "cell_type": "code",
   "execution_count": 71,
   "metadata": {},
   "outputs": [],
   "source": [
    "@pandas_udf(\"double\", PandasUDFType.GROUPED_AGG)\n",
    "def filtered_mean(pds1, pds2):\n",
    "    \"\"\"\n",
    "    カラム:vとカラム:v2の差分の平均をとる関数\n",
    "    \"\"\"\n",
    "    pdf = pds1 - pds2\n",
    "    return pdf.mean()"
   ]
  },
  {
   "cell_type": "code",
   "execution_count": 72,
   "metadata": {},
   "outputs": [
    {
     "name": "stdout",
     "output_type": "stream",
     "text": [
      "+---+--------------------+\n",
      "|id |filtered_mean(v, v2)|\n",
      "+---+--------------------+\n",
      "|3  |-1.0                |\n",
      "|5  |-1.0                |\n",
      "|1  |-1.0                |\n",
      "|4  |-1.0                |\n",
      "|2  |-1.0                |\n",
      "+---+--------------------+\n",
      "\n"
     ]
    }
   ],
   "source": [
    "df.groupBy(\"id\").agg(filtered_mean(\"v\", \"v2\")).show(10, False)"
   ]
  },
  {
   "cell_type": "markdown",
   "metadata": {},
   "source": [
    "### GROUPED_MAP"
   ]
  },
  {
   "cell_type": "code",
   "execution_count": 73,
   "metadata": {},
   "outputs": [],
   "source": [
    "schema = StructType([\n",
    "  StructField(\"id\", StringType(), False),\n",
    "  StructField(\"v\", DoubleType(), False),\n",
    "  StructField(\"v2\", DoubleType(), False),\n",
    "  StructField(\"cluster\", IntegerType(), False)\n",
    "])"
   ]
  },
  {
   "cell_type": "code",
   "execution_count": 74,
   "metadata": {},
   "outputs": [
    {
     "name": "stdout",
     "output_type": "stream",
     "text": [
      "+---+----+----+\n",
      "| id|   v|  v2|\n",
      "+---+----+----+\n",
      "|  1| 1.0| 2.0|\n",
      "|  1| 2.0| 3.0|\n",
      "|  1| 5.0| 6.0|\n",
      "|  1| 7.0| 8.0|\n",
      "|  2| 3.0| 4.0|\n",
      "|  2| 5.0| 6.0|\n",
      "|  2|10.0|11.0|\n",
      "|  2| 0.0| 1.0|\n",
      "|  3| 6.0| 7.0|\n",
      "|  3| 6.0| 7.0|\n",
      "|  3| 7.0| 8.0|\n",
      "|  3| 8.0| 9.0|\n",
      "|  4| 5.0| 6.0|\n",
      "|  4| 9.0|10.0|\n",
      "|  4| 2.0| 3.0|\n",
      "|  4| 2.0| 3.0|\n",
      "|  5| 7.0| 8.0|\n",
      "|  5| 1.0| 2.0|\n",
      "|  5| 2.0| 3.0|\n",
      "|  5| 4.0| 5.0|\n",
      "+---+----+----+\n",
      "\n"
     ]
    }
   ],
   "source": [
    "df = df.select(\"id\",\"v\",\"v2\")\n",
    "df.show()"
   ]
  },
  {
   "cell_type": "code",
   "execution_count": 76,
   "metadata": {},
   "outputs": [],
   "source": [
    "@pandas_udf(schema, PandasUDFType.GROUPED_MAP)\n",
    "def grouped_km(pdf):\n",
    "    \"\"\"\n",
    "    groupごとにKMeansによるクラスタリングを実施しデータを5つに分ける。\n",
    "    \"\"\"\n",
    "    from sklearn.cluster import KMeans\n",
    "    km = KMeans(n_clusters=2, random_state=71)\n",
    "    pdf.loc[:, \"cluster\"] = km.fit_predict(pdf.loc[:, [\"v\", \"v2\"]])\n",
    "    return pdf"
   ]
  },
  {
   "cell_type": "code",
   "execution_count": 78,
   "metadata": {},
   "outputs": [
    {
     "name": "stdout",
     "output_type": "stream",
     "text": [
      "+---+----+----+-------+\n",
      "| id|   v|  v2|cluster|\n",
      "+---+----+----+-------+\n",
      "|  3| 6.0| 7.0|      1|\n",
      "|  3| 6.0| 7.0|      1|\n",
      "|  3| 7.0| 8.0|      0|\n",
      "|  3| 8.0| 9.0|      0|\n",
      "|  5| 7.0| 8.0|      1|\n",
      "|  5| 1.0| 2.0|      0|\n",
      "|  5| 2.0| 3.0|      0|\n",
      "|  5| 4.0| 5.0|      0|\n",
      "|  1| 1.0| 2.0|      1|\n",
      "|  1| 2.0| 3.0|      1|\n",
      "|  1| 5.0| 6.0|      0|\n",
      "|  1| 7.0| 8.0|      0|\n",
      "|  4| 5.0| 6.0|      0|\n",
      "|  4| 9.0|10.0|      1|\n",
      "|  4| 2.0| 3.0|      0|\n",
      "|  4| 2.0| 3.0|      0|\n",
      "|  2| 3.0| 4.0|      0|\n",
      "|  2| 5.0| 6.0|      0|\n",
      "|  2|10.0|11.0|      1|\n",
      "|  2| 0.0| 1.0|      0|\n",
      "+---+----+----+-------+\n",
      "\n"
     ]
    }
   ],
   "source": [
    "result = df.groupBy(\"id\").apply(grouped_km)\n",
    "result.show()"
   ]
  },
  {
   "cell_type": "code",
   "execution_count": null,
   "metadata": {},
   "outputs": [],
   "source": []
  }
 ],
 "metadata": {
  "interpreter": {
   "hash": "cdfd2cb5b443fb54ce2327695bf24ff2220c4ebfb3729c0ed64ac908f741e365"
  },
  "kernelspec": {
   "display_name": "Python 3.10.4 64-bit ('pyspark': conda)",
   "name": "python3"
  },
  "language_info": {
   "codemirror_mode": {
    "name": "ipython",
    "version": 3
   },
   "file_extension": ".py",
   "mimetype": "text/x-python",
   "name": "python",
   "nbconvert_exporter": "python",
   "pygments_lexer": "ipython3",
   "version": "3.10.4"
  },
  "orig_nbformat": 4
 },
 "nbformat": 4,
 "nbformat_minor": 2
}
